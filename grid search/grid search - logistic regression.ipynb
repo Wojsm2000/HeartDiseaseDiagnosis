{
 "cells": [
  {
   "cell_type": "code",
   "id": "initial_id",
   "metadata": {
    "collapsed": true,
    "ExecuteTime": {
     "end_time": "2025-04-28T15:53:19.830090Z",
     "start_time": "2025-04-28T15:53:19.799904Z"
    }
   },
   "source": [
    "import pandas as pd\n",
    "\n",
    "df = pd.read_csv('./final_named_and_final_cleaned_data_0_5_with_fram.csv')\n",
    "\n",
    "df.head()"
   ],
   "outputs": [
    {
     "data": {
      "text/plain": [
       "   Unnamed: 0  age  sex  painloc  painexer  relrest  pncaden   cp  trestbps  \\\n",
       "0           0   63    1      1.0       1.0      1.0      3.0  1.0     145.0   \n",
       "1           1   67    1      1.0       1.0      1.0      3.0  4.0     160.0   \n",
       "2           2   67    1      1.0       1.0      1.0      3.0  4.0     120.0   \n",
       "3           3   37    1      1.0       1.0      1.0      3.0  3.0     130.0   \n",
       "4           4   41    0      1.0       0.0      1.0      1.0  2.0     130.0   \n",
       "\n",
       "   htn  ...  ladprox  laddist  diag  cxmain  ramus  om1  om2  rcaprox  \\\n",
       "0  1.0  ...      1.0      1.0   1.0     1.0    1.0  1.0  1.0      1.0   \n",
       "1  1.0  ...      2.0      2.0   1.0     2.0    1.0  1.0  1.0      1.0   \n",
       "2  1.0  ...      1.0      1.0   1.0     1.0    1.0  1.0  1.0      2.0   \n",
       "3  0.0  ...      1.0      1.0   1.0     1.0    1.0  1.0  1.0      1.0   \n",
       "4  1.0  ...      1.0      1.0  -1.0     1.0   -1.0  1.0 -1.0      1.0   \n",
       "\n",
       "   rcadist  framingham_score  \n",
       "0      1.0                18  \n",
       "1      1.0                20  \n",
       "2      2.0                17  \n",
       "3      1.0                 7  \n",
       "4      1.0                 9  \n",
       "\n",
       "[5 rows x 46 columns]"
      ],
      "text/html": [
       "<div>\n",
       "<style scoped>\n",
       "    .dataframe tbody tr th:only-of-type {\n",
       "        vertical-align: middle;\n",
       "    }\n",
       "\n",
       "    .dataframe tbody tr th {\n",
       "        vertical-align: top;\n",
       "    }\n",
       "\n",
       "    .dataframe thead th {\n",
       "        text-align: right;\n",
       "    }\n",
       "</style>\n",
       "<table border=\"1\" class=\"dataframe\">\n",
       "  <thead>\n",
       "    <tr style=\"text-align: right;\">\n",
       "      <th></th>\n",
       "      <th>Unnamed: 0</th>\n",
       "      <th>age</th>\n",
       "      <th>sex</th>\n",
       "      <th>painloc</th>\n",
       "      <th>painexer</th>\n",
       "      <th>relrest</th>\n",
       "      <th>pncaden</th>\n",
       "      <th>cp</th>\n",
       "      <th>trestbps</th>\n",
       "      <th>htn</th>\n",
       "      <th>...</th>\n",
       "      <th>ladprox</th>\n",
       "      <th>laddist</th>\n",
       "      <th>diag</th>\n",
       "      <th>cxmain</th>\n",
       "      <th>ramus</th>\n",
       "      <th>om1</th>\n",
       "      <th>om2</th>\n",
       "      <th>rcaprox</th>\n",
       "      <th>rcadist</th>\n",
       "      <th>framingham_score</th>\n",
       "    </tr>\n",
       "  </thead>\n",
       "  <tbody>\n",
       "    <tr>\n",
       "      <th>0</th>\n",
       "      <td>0</td>\n",
       "      <td>63</td>\n",
       "      <td>1</td>\n",
       "      <td>1.0</td>\n",
       "      <td>1.0</td>\n",
       "      <td>1.0</td>\n",
       "      <td>3.0</td>\n",
       "      <td>1.0</td>\n",
       "      <td>145.0</td>\n",
       "      <td>1.0</td>\n",
       "      <td>...</td>\n",
       "      <td>1.0</td>\n",
       "      <td>1.0</td>\n",
       "      <td>1.0</td>\n",
       "      <td>1.0</td>\n",
       "      <td>1.0</td>\n",
       "      <td>1.0</td>\n",
       "      <td>1.0</td>\n",
       "      <td>1.0</td>\n",
       "      <td>1.0</td>\n",
       "      <td>18</td>\n",
       "    </tr>\n",
       "    <tr>\n",
       "      <th>1</th>\n",
       "      <td>1</td>\n",
       "      <td>67</td>\n",
       "      <td>1</td>\n",
       "      <td>1.0</td>\n",
       "      <td>1.0</td>\n",
       "      <td>1.0</td>\n",
       "      <td>3.0</td>\n",
       "      <td>4.0</td>\n",
       "      <td>160.0</td>\n",
       "      <td>1.0</td>\n",
       "      <td>...</td>\n",
       "      <td>2.0</td>\n",
       "      <td>2.0</td>\n",
       "      <td>1.0</td>\n",
       "      <td>2.0</td>\n",
       "      <td>1.0</td>\n",
       "      <td>1.0</td>\n",
       "      <td>1.0</td>\n",
       "      <td>1.0</td>\n",
       "      <td>1.0</td>\n",
       "      <td>20</td>\n",
       "    </tr>\n",
       "    <tr>\n",
       "      <th>2</th>\n",
       "      <td>2</td>\n",
       "      <td>67</td>\n",
       "      <td>1</td>\n",
       "      <td>1.0</td>\n",
       "      <td>1.0</td>\n",
       "      <td>1.0</td>\n",
       "      <td>3.0</td>\n",
       "      <td>4.0</td>\n",
       "      <td>120.0</td>\n",
       "      <td>1.0</td>\n",
       "      <td>...</td>\n",
       "      <td>1.0</td>\n",
       "      <td>1.0</td>\n",
       "      <td>1.0</td>\n",
       "      <td>1.0</td>\n",
       "      <td>1.0</td>\n",
       "      <td>1.0</td>\n",
       "      <td>1.0</td>\n",
       "      <td>2.0</td>\n",
       "      <td>2.0</td>\n",
       "      <td>17</td>\n",
       "    </tr>\n",
       "    <tr>\n",
       "      <th>3</th>\n",
       "      <td>3</td>\n",
       "      <td>37</td>\n",
       "      <td>1</td>\n",
       "      <td>1.0</td>\n",
       "      <td>1.0</td>\n",
       "      <td>1.0</td>\n",
       "      <td>3.0</td>\n",
       "      <td>3.0</td>\n",
       "      <td>130.0</td>\n",
       "      <td>0.0</td>\n",
       "      <td>...</td>\n",
       "      <td>1.0</td>\n",
       "      <td>1.0</td>\n",
       "      <td>1.0</td>\n",
       "      <td>1.0</td>\n",
       "      <td>1.0</td>\n",
       "      <td>1.0</td>\n",
       "      <td>1.0</td>\n",
       "      <td>1.0</td>\n",
       "      <td>1.0</td>\n",
       "      <td>7</td>\n",
       "    </tr>\n",
       "    <tr>\n",
       "      <th>4</th>\n",
       "      <td>4</td>\n",
       "      <td>41</td>\n",
       "      <td>0</td>\n",
       "      <td>1.0</td>\n",
       "      <td>0.0</td>\n",
       "      <td>1.0</td>\n",
       "      <td>1.0</td>\n",
       "      <td>2.0</td>\n",
       "      <td>130.0</td>\n",
       "      <td>1.0</td>\n",
       "      <td>...</td>\n",
       "      <td>1.0</td>\n",
       "      <td>1.0</td>\n",
       "      <td>-1.0</td>\n",
       "      <td>1.0</td>\n",
       "      <td>-1.0</td>\n",
       "      <td>1.0</td>\n",
       "      <td>-1.0</td>\n",
       "      <td>1.0</td>\n",
       "      <td>1.0</td>\n",
       "      <td>9</td>\n",
       "    </tr>\n",
       "  </tbody>\n",
       "</table>\n",
       "<p>5 rows × 46 columns</p>\n",
       "</div>"
      ]
     },
     "execution_count": 25,
     "metadata": {},
     "output_type": "execute_result"
    }
   ],
   "execution_count": 25
  },
  {
   "metadata": {
    "ExecuteTime": {
     "end_time": "2025-04-28T15:53:19.872497Z",
     "start_time": "2025-04-28T15:53:19.867096Z"
    }
   },
   "cell_type": "code",
   "source": [
    "X = df.drop('num', axis=1)\n",
    "y = df['num']\n"
   ],
   "id": "8bd366d27fa8ccc9",
   "outputs": [],
   "execution_count": 26
  },
  {
   "metadata": {
    "ExecuteTime": {
     "end_time": "2025-04-28T15:53:19.932792Z",
     "start_time": "2025-04-28T15:53:19.922871Z"
    }
   },
   "cell_type": "code",
   "source": [
    "from sklearn.model_selection import train_test_split\n",
    "\n",
    "X_train, X_test, y_train, y_test = train_test_split(X, y, test_size=0.2, random_state=42)\n"
   ],
   "id": "c99f968a11c327b8",
   "outputs": [],
   "execution_count": 27
  },
  {
   "metadata": {
    "ExecuteTime": {
     "end_time": "2025-04-28T15:53:49.595295Z",
     "start_time": "2025-04-28T15:53:20.002785Z"
    }
   },
   "cell_type": "code",
   "source": [
    "from sklearn.linear_model import LogisticRegression\n",
    "from sklearn.model_selection import GridSearchCV\n",
    "\n",
    "model = LogisticRegression(max_iter=10000)\n",
    "\n",
    "param_grid = {\n",
    "    'C': [0.01, 0.1, 1, 10],  # Hiperparametr regularyzacji\n",
    "    'solver': ['liblinear', 'saga'],  # Rozwiązywacze\n",
    "    'penalty': ['l2', 'none'],  # Typy regularyzacji\n",
    "}\n",
    "\n",
    "grid_search = GridSearchCV(estimator=model, param_grid=param_grid, cv=5, n_jobs=-1)\n",
    "\n",
    "grid_search.fit(X_train, y_train)\n",
    "\n",
    "print(f\"Najlepsze parametry: {grid_search.best_params_}\")\n",
    "print(f\"Dokładność na zbiorze testowym: {grid_search.best_estimator_.score(X_test, y_test)}\")\n",
    "\n"
   ],
   "id": "1b592f52b56b2f82",
   "outputs": [
    {
     "name": "stdout",
     "output_type": "stream",
     "text": [
      "Najlepsze parametry: {'C': 1, 'penalty': 'l2', 'solver': 'liblinear'}\n",
      "Dokładność na zbiorze testowym: 0.6148148148148148\n"
     ]
    },
    {
     "name": "stderr",
     "output_type": "stream",
     "text": [
      "C:\\Users\\emiar\\Desktop\\MOJE\\STUDIA\\eksploracja danych\\Nowy folder\\.venv\\Lib\\site-packages\\sklearn\\model_selection\\_validation.py:528: FitFailedWarning: \n",
      "40 fits failed out of a total of 80.\n",
      "The score on these train-test partitions for these parameters will be set to nan.\n",
      "If these failures are not expected, you can try to debug them by setting error_score='raise'.\n",
      "\n",
      "Below are more details about the failures:\n",
      "--------------------------------------------------------------------------------\n",
      "22 fits failed with the following error:\n",
      "Traceback (most recent call last):\n",
      "  File \"C:\\Users\\emiar\\Desktop\\MOJE\\STUDIA\\eksploracja danych\\Nowy folder\\.venv\\Lib\\site-packages\\sklearn\\model_selection\\_validation.py\", line 866, in _fit_and_score\n",
      "    estimator.fit(X_train, y_train, **fit_params)\n",
      "  File \"C:\\Users\\emiar\\Desktop\\MOJE\\STUDIA\\eksploracja danych\\Nowy folder\\.venv\\Lib\\site-packages\\sklearn\\base.py\", line 1382, in wrapper\n",
      "    estimator._validate_params()\n",
      "  File \"C:\\Users\\emiar\\Desktop\\MOJE\\STUDIA\\eksploracja danych\\Nowy folder\\.venv\\Lib\\site-packages\\sklearn\\base.py\", line 436, in _validate_params\n",
      "    validate_parameter_constraints(\n",
      "  File \"C:\\Users\\emiar\\Desktop\\MOJE\\STUDIA\\eksploracja danych\\Nowy folder\\.venv\\Lib\\site-packages\\sklearn\\utils\\_param_validation.py\", line 98, in validate_parameter_constraints\n",
      "    raise InvalidParameterError(\n",
      "sklearn.utils._param_validation.InvalidParameterError: The 'penalty' parameter of LogisticRegression must be a str among {'l1', 'l2', 'elasticnet'} or None. Got 'none' instead.\n",
      "\n",
      "--------------------------------------------------------------------------------\n",
      "12 fits failed with the following error:\n",
      "Traceback (most recent call last):\n",
      "  File \"C:\\Users\\emiar\\Desktop\\MOJE\\STUDIA\\eksploracja danych\\Nowy folder\\.venv\\Lib\\site-packages\\sklearn\\model_selection\\_validation.py\", line 866, in _fit_and_score\n",
      "    estimator.fit(X_train, y_train, **fit_params)\n",
      "  File \"C:\\Users\\emiar\\Desktop\\MOJE\\STUDIA\\eksploracja danych\\Nowy folder\\.venv\\Lib\\site-packages\\sklearn\\base.py\", line 1382, in wrapper\n",
      "    estimator._validate_params()\n",
      "  File \"C:\\Users\\emiar\\Desktop\\MOJE\\STUDIA\\eksploracja danych\\Nowy folder\\.venv\\Lib\\site-packages\\sklearn\\base.py\", line 436, in _validate_params\n",
      "    validate_parameter_constraints(\n",
      "  File \"C:\\Users\\emiar\\Desktop\\MOJE\\STUDIA\\eksploracja danych\\Nowy folder\\.venv\\Lib\\site-packages\\sklearn\\utils\\_param_validation.py\", line 98, in validate_parameter_constraints\n",
      "    raise InvalidParameterError(\n",
      "sklearn.utils._param_validation.InvalidParameterError: The 'penalty' parameter of LogisticRegression must be a str among {'l2', 'elasticnet', 'l1'} or None. Got 'none' instead.\n",
      "\n",
      "--------------------------------------------------------------------------------\n",
      "6 fits failed with the following error:\n",
      "Traceback (most recent call last):\n",
      "  File \"C:\\Users\\emiar\\Desktop\\MOJE\\STUDIA\\eksploracja danych\\Nowy folder\\.venv\\Lib\\site-packages\\sklearn\\model_selection\\_validation.py\", line 866, in _fit_and_score\n",
      "    estimator.fit(X_train, y_train, **fit_params)\n",
      "  File \"C:\\Users\\emiar\\Desktop\\MOJE\\STUDIA\\eksploracja danych\\Nowy folder\\.venv\\Lib\\site-packages\\sklearn\\base.py\", line 1382, in wrapper\n",
      "    estimator._validate_params()\n",
      "  File \"C:\\Users\\emiar\\Desktop\\MOJE\\STUDIA\\eksploracja danych\\Nowy folder\\.venv\\Lib\\site-packages\\sklearn\\base.py\", line 436, in _validate_params\n",
      "    validate_parameter_constraints(\n",
      "  File \"C:\\Users\\emiar\\Desktop\\MOJE\\STUDIA\\eksploracja danych\\Nowy folder\\.venv\\Lib\\site-packages\\sklearn\\utils\\_param_validation.py\", line 98, in validate_parameter_constraints\n",
      "    raise InvalidParameterError(\n",
      "sklearn.utils._param_validation.InvalidParameterError: The 'penalty' parameter of LogisticRegression must be a str among {'elasticnet', 'l1', 'l2'} or None. Got 'none' instead.\n",
      "\n",
      "  warnings.warn(some_fits_failed_message, FitFailedWarning)\n",
      "C:\\Users\\emiar\\Desktop\\MOJE\\STUDIA\\eksploracja danych\\Nowy folder\\.venv\\Lib\\site-packages\\sklearn\\model_selection\\_search.py:1108: UserWarning: One or more of the test scores are non-finite: [0.5905814  0.56923342        nan        nan 0.64162791 0.59242463\n",
      "        nan        nan 0.64905685 0.59706718        nan        nan\n",
      " 0.64348407 0.59891904        nan        nan]\n",
      "  warnings.warn(\n"
     ]
    }
   ],
   "execution_count": 28
  },
  {
   "metadata": {
    "ExecuteTime": {
     "end_time": "2025-04-28T15:53:49.675305Z",
     "start_time": "2025-04-28T15:53:49.655243Z"
    }
   },
   "cell_type": "code",
   "source": [
    "from sklearn.metrics import confusion_matrix, classification_report\n",
    "\n",
    "print(confusion_matrix(y_test, grid_search.best_estimator_.predict(X_test)))\n",
    "\n",
    "print(classification_report(y_test, grid_search.best_estimator_.predict(X_test)))\n"
   ],
   "id": "703a7c99299eaf49",
   "outputs": [
    {
     "name": "stdout",
     "output_type": "stream",
     "text": [
      "[[98  1  1  3  0]\n",
      " [31 25  6  6  0]\n",
      " [ 4 16 12 19  0]\n",
      " [ 1  6  3 26  0]\n",
      " [ 5  1  1  0  5]]\n",
      "              precision    recall  f1-score   support\n",
      "\n",
      "           0       0.71      0.95      0.81       103\n",
      "           1       0.51      0.37      0.43        68\n",
      "           2       0.52      0.24      0.32        51\n",
      "           3       0.48      0.72      0.58        36\n",
      "           4       1.00      0.42      0.59        12\n",
      "\n",
      "    accuracy                           0.61       270\n",
      "   macro avg       0.64      0.54      0.55       270\n",
      "weighted avg       0.60      0.61      0.58       270\n",
      "\n"
     ]
    }
   ],
   "execution_count": 29
  },
  {
   "metadata": {
    "ExecuteTime": {
     "end_time": "2025-04-28T15:53:49.724277Z",
     "start_time": "2025-04-28T15:53:49.716133Z"
    }
   },
   "cell_type": "code",
   "source": [
    "from sklearn.metrics import classification_report\n",
    "import csv\n",
    "\n",
    "def save_model_results(model_name, model, X_test, y_test, filename='model_results.csv'):\n",
    "    y_pred = model.predict(X_test)\n",
    "\n",
    "    report = classification_report(y_test, y_pred, output_dict=True)\n",
    "\n",
    "    results = {\n",
    "        'Model': model_name,\n",
    "        'Accuracy': report['accuracy'],\n",
    "        'Precision Class 0': report['0']['precision'],\n",
    "        'Recall Class 0': report['0']['recall'],\n",
    "        'F1-score Class 0': report['0']['f1-score'],\n",
    "        'Precision Class 1': report['1']['precision'],\n",
    "        'Recall Class 1': report['1']['recall'],\n",
    "        'F1-score Class 1': report['1']['f1-score'],\n",
    "        'Precision Class 2': report['2']['precision'],\n",
    "        'Recall Class 2': report['2']['recall'],\n",
    "        'F1-score Class 2': report['2']['f1-score'],\n",
    "        'Precision Class 3': report['3']['precision'],\n",
    "        'Recall Class 3': report['3']['recall'],\n",
    "        'F1-score Class 3': report['3']['f1-score'],\n",
    "        'Precision Class 4': report['4']['precision'],\n",
    "        'Recall Class 4': report['4']['recall'],\n",
    "        'F1-score Class 4': report['4']['f1-score']\n",
    "    }\n",
    "\n",
    "    file_exists = False\n",
    "    try:\n",
    "        with open(filename, 'r'):\n",
    "            file_exists = True\n",
    "    except FileNotFoundError:\n",
    "        pass\n",
    "\n",
    "    with open(filename, mode='a', newline='') as file:\n",
    "        writer = csv.DictWriter(file, fieldnames=results.keys())\n",
    "\n",
    "        if not file_exists:\n",
    "            writer.writeheader()\n",
    "\n",
    "        writer.writerow(results)\n",
    "\n",
    "\n"
   ],
   "id": "7072d8c4c6fd8cf6",
   "outputs": [],
   "execution_count": 30
  },
  {
   "metadata": {
    "ExecuteTime": {
     "end_time": "2025-04-28T15:53:52.279558Z",
     "start_time": "2025-04-28T15:53:49.754342Z"
    }
   },
   "cell_type": "code",
   "source": [
    "model.fit(X_train, y_train)\n",
    "#save_model_results('Logistic Regression', model, X_test, y_test)"
   ],
   "id": "7ecd676458f76ee0",
   "outputs": [
    {
     "name": "stderr",
     "output_type": "stream",
     "text": [
      "C:\\Users\\emiar\\Desktop\\MOJE\\STUDIA\\eksploracja danych\\Nowy folder\\.venv\\Lib\\site-packages\\sklearn\\linear_model\\_logistic.py:465: ConvergenceWarning: lbfgs failed to converge (status=1):\n",
      "STOP: TOTAL NO. OF ITERATIONS REACHED LIMIT.\n",
      "\n",
      "Increase the number of iterations (max_iter) or scale the data as shown in:\n",
      "    https://scikit-learn.org/stable/modules/preprocessing.html\n",
      "Please also refer to the documentation for alternative solver options:\n",
      "    https://scikit-learn.org/stable/modules/linear_model.html#logistic-regression\n",
      "  n_iter_i = _check_optimize_result(\n"
     ]
    }
   ],
   "execution_count": 31
  }
 ],
 "metadata": {
  "kernelspec": {
   "display_name": "Python 3",
   "language": "python",
   "name": "python3"
  },
  "language_info": {
   "codemirror_mode": {
    "name": "ipython",
    "version": 2
   },
   "file_extension": ".py",
   "mimetype": "text/x-python",
   "name": "python",
   "nbconvert_exporter": "python",
   "pygments_lexer": "ipython2",
   "version": "2.7.6"
  }
 },
 "nbformat": 4,
 "nbformat_minor": 5
}
