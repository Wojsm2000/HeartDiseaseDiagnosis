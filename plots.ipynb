{
 "cells": [
  {
   "cell_type": "code",
   "execution_count": 1,
   "id": "initial_id",
   "metadata": {
    "ExecuteTime": {
     "end_time": "2025-03-16T15:44:10.507612Z",
     "start_time": "2025-03-16T15:44:10.500792Z"
    },
    "collapsed": true
   },
   "outputs": [
    {
     "ename": "ModuleNotFoundError",
     "evalue": "No module named 'matplotlib'",
     "output_type": "error",
     "traceback": [
      "\u001b[31m---------------------------------------------------------------------------\u001b[39m",
      "\u001b[31mModuleNotFoundError\u001b[39m                       Traceback (most recent call last)",
      "\u001b[36mCell\u001b[39m\u001b[36m \u001b[39m\u001b[32mIn[1]\u001b[39m\u001b[32m, line 2\u001b[39m\n\u001b[32m      1\u001b[39m \u001b[38;5;28;01mimport\u001b[39;00m\u001b[38;5;250m \u001b[39m\u001b[34;01mpandas\u001b[39;00m\u001b[38;5;250m \u001b[39m\u001b[38;5;28;01mas\u001b[39;00m\u001b[38;5;250m \u001b[39m\u001b[34;01mpd\u001b[39;00m\n\u001b[32m----> \u001b[39m\u001b[32m2\u001b[39m \u001b[38;5;28;01mimport\u001b[39;00m\u001b[38;5;250m \u001b[39m\u001b[34;01mmatplotlib\u001b[39;00m\u001b[34;01m.\u001b[39;00m\u001b[34;01mpyplot\u001b[39;00m\u001b[38;5;250m \u001b[39m\u001b[38;5;28;01mas\u001b[39;00m\u001b[38;5;250m \u001b[39m\u001b[34;01mplt\u001b[39;00m\n\u001b[32m      3\u001b[39m \u001b[38;5;28;01mimport\u001b[39;00m\u001b[38;5;250m \u001b[39m\u001b[34;01mseaborn\u001b[39;00m\u001b[38;5;250m \u001b[39m\u001b[38;5;28;01mas\u001b[39;00m\u001b[38;5;250m \u001b[39m\u001b[34;01msns\u001b[39;00m\n\u001b[32m      4\u001b[39m \u001b[38;5;28;01mfrom\u001b[39;00m\u001b[38;5;250m \u001b[39m\u001b[34;01mscipy\u001b[39;00m\u001b[34;01m.\u001b[39;00m\u001b[34;01mstats\u001b[39;00m\u001b[38;5;250m \u001b[39m\u001b[38;5;28;01mimport\u001b[39;00m ttest_ind\n",
      "\u001b[31mModuleNotFoundError\u001b[39m: No module named 'matplotlib'"
     ]
    }
   ],
   "source": [
    "import pandas as pd\n",
    "import matplotlib.pyplot as plt\n",
    "import seaborn as sns\n",
    "from scipy.stats import ttest_ind\n",
    "from scipy import stats\n",
    "import numpy as np"
   ]
  },
  {
   "cell_type": "code",
   "execution_count": null,
   "id": "2beb941c6f43f6",
   "metadata": {
    "ExecuteTime": {
     "end_time": "2025-03-16T14:43:53.364318Z",
     "start_time": "2025-03-16T14:43:53.331412Z"
    }
   },
   "outputs": [
    {
     "data": {
      "text/html": [
       "<div>\n",
       "<style scoped>\n",
       "    .dataframe tbody tr th:only-of-type {\n",
       "        vertical-align: middle;\n",
       "    }\n",
       "\n",
       "    .dataframe tbody tr th {\n",
       "        vertical-align: top;\n",
       "    }\n",
       "\n",
       "    .dataframe thead th {\n",
       "        text-align: right;\n",
       "    }\n",
       "</style>\n",
       "<table border=\"1\" class=\"dataframe\">\n",
       "  <thead>\n",
       "    <tr style=\"text-align: right;\">\n",
       "      <th></th>\n",
       "      <th>Unnamed: 0</th>\n",
       "      <th>ccf</th>\n",
       "      <th>age</th>\n",
       "      <th>sex</th>\n",
       "      <th>painloc</th>\n",
       "      <th>painexer</th>\n",
       "      <th>relrest</th>\n",
       "      <th>pncaden</th>\n",
       "      <th>cp</th>\n",
       "      <th>trestbps</th>\n",
       "      <th>...</th>\n",
       "      <th>76</th>\n",
       "      <th>77</th>\n",
       "      <th>78</th>\n",
       "      <th>81</th>\n",
       "      <th>84</th>\n",
       "      <th>85</th>\n",
       "      <th>86</th>\n",
       "      <th>87</th>\n",
       "      <th>88</th>\n",
       "      <th>name</th>\n",
       "    </tr>\n",
       "    <tr>\n",
       "      <th>id</th>\n",
       "      <th></th>\n",
       "      <th></th>\n",
       "      <th></th>\n",
       "      <th></th>\n",
       "      <th></th>\n",
       "      <th></th>\n",
       "      <th></th>\n",
       "      <th></th>\n",
       "      <th></th>\n",
       "      <th></th>\n",
       "      <th></th>\n",
       "      <th></th>\n",
       "      <th></th>\n",
       "      <th></th>\n",
       "      <th></th>\n",
       "      <th></th>\n",
       "      <th></th>\n",
       "      <th></th>\n",
       "      <th></th>\n",
       "      <th></th>\n",
       "      <th></th>\n",
       "    </tr>\n",
       "  </thead>\n",
       "  <tbody>\n",
       "    <tr>\n",
       "      <th>1</th>\n",
       "      <td>0</td>\n",
       "      <td>15943882.0</td>\n",
       "      <td>63</td>\n",
       "      <td>1</td>\n",
       "      <td>NaN</td>\n",
       "      <td>NaN</td>\n",
       "      <td>NaN</td>\n",
       "      <td>NaN</td>\n",
       "      <td>1.0</td>\n",
       "      <td>145.0</td>\n",
       "      <td>...</td>\n",
       "      <td>NaN</td>\n",
       "      <td>NaN</td>\n",
       "      <td>NaN</td>\n",
       "      <td>NaN</td>\n",
       "      <td>NaN</td>\n",
       "      <td>0.0</td>\n",
       "      <td>0.0</td>\n",
       "      <td>0.0</td>\n",
       "      <td>0.0</td>\n",
       "      <td>name</td>\n",
       "    </tr>\n",
       "    <tr>\n",
       "      <th>2</th>\n",
       "      <td>1</td>\n",
       "      <td>15964847.0</td>\n",
       "      <td>67</td>\n",
       "      <td>1</td>\n",
       "      <td>NaN</td>\n",
       "      <td>NaN</td>\n",
       "      <td>NaN</td>\n",
       "      <td>NaN</td>\n",
       "      <td>4.0</td>\n",
       "      <td>160.0</td>\n",
       "      <td>...</td>\n",
       "      <td>NaN</td>\n",
       "      <td>NaN</td>\n",
       "      <td>NaN</td>\n",
       "      <td>NaN</td>\n",
       "      <td>NaN</td>\n",
       "      <td>0.0</td>\n",
       "      <td>0.0</td>\n",
       "      <td>0.0</td>\n",
       "      <td>0.0</td>\n",
       "      <td>name</td>\n",
       "    </tr>\n",
       "    <tr>\n",
       "      <th>3</th>\n",
       "      <td>2</td>\n",
       "      <td>15952199.0</td>\n",
       "      <td>67</td>\n",
       "      <td>1</td>\n",
       "      <td>NaN</td>\n",
       "      <td>NaN</td>\n",
       "      <td>NaN</td>\n",
       "      <td>NaN</td>\n",
       "      <td>4.0</td>\n",
       "      <td>120.0</td>\n",
       "      <td>...</td>\n",
       "      <td>NaN</td>\n",
       "      <td>NaN</td>\n",
       "      <td>NaN</td>\n",
       "      <td>NaN</td>\n",
       "      <td>NaN</td>\n",
       "      <td>0.0</td>\n",
       "      <td>0.0</td>\n",
       "      <td>0.0</td>\n",
       "      <td>0.0</td>\n",
       "      <td>name</td>\n",
       "    </tr>\n",
       "    <tr>\n",
       "      <th>4</th>\n",
       "      <td>3</td>\n",
       "      <td>15929464.0</td>\n",
       "      <td>37</td>\n",
       "      <td>1</td>\n",
       "      <td>NaN</td>\n",
       "      <td>NaN</td>\n",
       "      <td>NaN</td>\n",
       "      <td>NaN</td>\n",
       "      <td>3.0</td>\n",
       "      <td>130.0</td>\n",
       "      <td>...</td>\n",
       "      <td>NaN</td>\n",
       "      <td>NaN</td>\n",
       "      <td>NaN</td>\n",
       "      <td>NaN</td>\n",
       "      <td>NaN</td>\n",
       "      <td>0.0</td>\n",
       "      <td>0.0</td>\n",
       "      <td>0.0</td>\n",
       "      <td>0.0</td>\n",
       "      <td>name</td>\n",
       "    </tr>\n",
       "    <tr>\n",
       "      <th>6</th>\n",
       "      <td>4</td>\n",
       "      <td>11961207.0</td>\n",
       "      <td>41</td>\n",
       "      <td>0</td>\n",
       "      <td>NaN</td>\n",
       "      <td>NaN</td>\n",
       "      <td>NaN</td>\n",
       "      <td>NaN</td>\n",
       "      <td>2.0</td>\n",
       "      <td>130.0</td>\n",
       "      <td>...</td>\n",
       "      <td>NaN</td>\n",
       "      <td>NaN</td>\n",
       "      <td>NaN</td>\n",
       "      <td>NaN</td>\n",
       "      <td>NaN</td>\n",
       "      <td>0.0</td>\n",
       "      <td>0.0</td>\n",
       "      <td>0.0</td>\n",
       "      <td>0.0</td>\n",
       "      <td>name</td>\n",
       "    </tr>\n",
       "    <tr>\n",
       "      <th>...</th>\n",
       "      <td>...</td>\n",
       "      <td>...</td>\n",
       "      <td>...</td>\n",
       "      <td>...</td>\n",
       "      <td>...</td>\n",
       "      <td>...</td>\n",
       "      <td>...</td>\n",
       "      <td>...</td>\n",
       "      <td>...</td>\n",
       "      <td>...</td>\n",
       "      <td>...</td>\n",
       "      <td>...</td>\n",
       "      <td>...</td>\n",
       "      <td>...</td>\n",
       "      <td>...</td>\n",
       "      <td>...</td>\n",
       "      <td>...</td>\n",
       "      <td>...</td>\n",
       "      <td>...</td>\n",
       "      <td>...</td>\n",
       "      <td>...</td>\n",
       "    </tr>\n",
       "    <tr>\n",
       "      <th>1666</th>\n",
       "      <td>1536</td>\n",
       "      <td>24309.0</td>\n",
       "      <td>47</td>\n",
       "      <td>0</td>\n",
       "      <td>1.0</td>\n",
       "      <td>NaN</td>\n",
       "      <td>NaN</td>\n",
       "      <td>NaN</td>\n",
       "      <td>2.0</td>\n",
       "      <td>110.0</td>\n",
       "      <td>...</td>\n",
       "      <td>NaN</td>\n",
       "      <td>NaN</td>\n",
       "      <td>NaN</td>\n",
       "      <td>NaN</td>\n",
       "      <td>NaN</td>\n",
       "      <td>NaN</td>\n",
       "      <td>NaN</td>\n",
       "      <td>NaN</td>\n",
       "      <td>NaN</td>\n",
       "      <td>Papp</td>\n",
       "    </tr>\n",
       "    <tr>\n",
       "      <th>1667</th>\n",
       "      <td>1537</td>\n",
       "      <td>22803.0</td>\n",
       "      <td>61</td>\n",
       "      <td>0</td>\n",
       "      <td>1.0</td>\n",
       "      <td>NaN</td>\n",
       "      <td>NaN</td>\n",
       "      <td>NaN</td>\n",
       "      <td>1.0</td>\n",
       "      <td>120.0</td>\n",
       "      <td>...</td>\n",
       "      <td>NaN</td>\n",
       "      <td>NaN</td>\n",
       "      <td>NaN</td>\n",
       "      <td>NaN</td>\n",
       "      <td>NaN</td>\n",
       "      <td>NaN</td>\n",
       "      <td>NaN</td>\n",
       "      <td>NaN</td>\n",
       "      <td>NaN</td>\n",
       "      <td>Friederi</td>\n",
       "    </tr>\n",
       "    <tr>\n",
       "      <th>1668</th>\n",
       "      <td>1538</td>\n",
       "      <td>13203.0</td>\n",
       "      <td>57</td>\n",
       "      <td>1</td>\n",
       "      <td>1.0</td>\n",
       "      <td>NaN</td>\n",
       "      <td>NaN</td>\n",
       "      <td>NaN</td>\n",
       "      <td>4.0</td>\n",
       "      <td>130.0</td>\n",
       "      <td>...</td>\n",
       "      <td>NaN</td>\n",
       "      <td>NaN</td>\n",
       "      <td>NaN</td>\n",
       "      <td>NaN</td>\n",
       "      <td>NaN</td>\n",
       "      <td>NaN</td>\n",
       "      <td>NaN</td>\n",
       "      <td>NaN</td>\n",
       "      <td>NaN</td>\n",
       "      <td>Torok</td>\n",
       "    </tr>\n",
       "    <tr>\n",
       "      <th>1669</th>\n",
       "      <td>1539</td>\n",
       "      <td>14205.0</td>\n",
       "      <td>47</td>\n",
       "      <td>1</td>\n",
       "      <td>1.0</td>\n",
       "      <td>NaN</td>\n",
       "      <td>NaN</td>\n",
       "      <td>NaN</td>\n",
       "      <td>4.0</td>\n",
       "      <td>100.0</td>\n",
       "      <td>...</td>\n",
       "      <td>NaN</td>\n",
       "      <td>NaN</td>\n",
       "      <td>NaN</td>\n",
       "      <td>NaN</td>\n",
       "      <td>NaN</td>\n",
       "      <td>NaN</td>\n",
       "      <td>NaN</td>\n",
       "      <td>NaN</td>\n",
       "      <td>NaN</td>\n",
       "      <td>Veszelsz</td>\n",
       "    </tr>\n",
       "    <tr>\n",
       "      <th>1670</th>\n",
       "      <td>1540</td>\n",
       "      <td>15403.0</td>\n",
       "      <td>36</td>\n",
       "      <td>1</td>\n",
       "      <td>1.0</td>\n",
       "      <td>NaN</td>\n",
       "      <td>NaN</td>\n",
       "      <td>NaN</td>\n",
       "      <td>3.0</td>\n",
       "      <td>120.0</td>\n",
       "      <td>...</td>\n",
       "      <td>NaN</td>\n",
       "      <td>NaN</td>\n",
       "      <td>NaN</td>\n",
       "      <td>NaN</td>\n",
       "      <td>NaN</td>\n",
       "      <td>NaN</td>\n",
       "      <td>NaN</td>\n",
       "      <td>NaN</td>\n",
       "      <td>NaN</td>\n",
       "      <td>Takacs</td>\n",
       "    </tr>\n",
       "  </tbody>\n",
       "</table>\n",
       "<p>1541 rows × 83 columns</p>\n",
       "</div>"
      ],
      "text/plain": [
       "      Unnamed: 0         ccf  age  sex  painloc  painexer  relrest  pncaden  \\\n",
       "id                                                                            \n",
       "1              0  15943882.0   63    1      NaN       NaN      NaN      NaN   \n",
       "2              1  15964847.0   67    1      NaN       NaN      NaN      NaN   \n",
       "3              2  15952199.0   67    1      NaN       NaN      NaN      NaN   \n",
       "4              3  15929464.0   37    1      NaN       NaN      NaN      NaN   \n",
       "6              4  11961207.0   41    0      NaN       NaN      NaN      NaN   \n",
       "...          ...         ...  ...  ...      ...       ...      ...      ...   \n",
       "1666        1536     24309.0   47    0      1.0       NaN      NaN      NaN   \n",
       "1667        1537     22803.0   61    0      1.0       NaN      NaN      NaN   \n",
       "1668        1538     13203.0   57    1      1.0       NaN      NaN      NaN   \n",
       "1669        1539     14205.0   47    1      1.0       NaN      NaN      NaN   \n",
       "1670        1540     15403.0   36    1      1.0       NaN      NaN      NaN   \n",
       "\n",
       "       cp  trestbps  ...  76  77  78  81  84   85   86   87   88      name  \n",
       "id                   ...                                                    \n",
       "1     1.0     145.0  ... NaN NaN NaN NaN NaN  0.0  0.0  0.0  0.0      name  \n",
       "2     4.0     160.0  ... NaN NaN NaN NaN NaN  0.0  0.0  0.0  0.0      name  \n",
       "3     4.0     120.0  ... NaN NaN NaN NaN NaN  0.0  0.0  0.0  0.0      name  \n",
       "4     3.0     130.0  ... NaN NaN NaN NaN NaN  0.0  0.0  0.0  0.0      name  \n",
       "6     2.0     130.0  ... NaN NaN NaN NaN NaN  0.0  0.0  0.0  0.0      name  \n",
       "...   ...       ...  ...  ..  ..  ..  ..  ..  ...  ...  ...  ...       ...  \n",
       "1666  2.0     110.0  ... NaN NaN NaN NaN NaN  NaN  NaN  NaN  NaN      Papp  \n",
       "1667  1.0     120.0  ... NaN NaN NaN NaN NaN  NaN  NaN  NaN  NaN  Friederi  \n",
       "1668  4.0     130.0  ... NaN NaN NaN NaN NaN  NaN  NaN  NaN  NaN     Torok  \n",
       "1669  4.0     100.0  ... NaN NaN NaN NaN NaN  NaN  NaN  NaN  NaN  Veszelsz  \n",
       "1670  3.0     120.0  ... NaN NaN NaN NaN NaN  NaN  NaN  NaN  NaN    Takacs  \n",
       "\n",
       "[1541 rows x 83 columns]"
      ]
     },
     "execution_count": 4,
     "metadata": {},
     "output_type": "execute_result"
    }
   ],
   "source": [
    "df = pd.read_csv(\"final_named_data.csv\", index_col=\"id\")\n",
    "df.drop()"
   ]
  },
  {
   "cell_type": "code",
   "execution_count": 34,
   "id": "dcda1ca0aa71f75d",
   "metadata": {
    "ExecuteTime": {
     "end_time": "2025-03-16T15:24:39.836689Z",
     "start_time": "2025-03-16T15:24:39.824961Z"
    }
   },
   "outputs": [
    {
     "data": {
      "text/plain": [
       "Unnamed: 0      0\n",
       "ccf             6\n",
       "age             0\n",
       "sex             0\n",
       "painloc       446\n",
       "             ... \n",
       "85             51\n",
       "86             51\n",
       "87             51\n",
       "88             51\n",
       "name            0\n",
       "Length: 83, dtype: int64"
      ]
     },
     "execution_count": 34,
     "metadata": {},
     "output_type": "execute_result"
    }
   ],
   "source": [
    "df.isnull().sum()"
   ]
  },
  {
   "cell_type": "code",
   "execution_count": null,
   "id": "454fc9959f789e5f",
   "metadata": {},
   "outputs": [],
   "source": [
    "columns_to_drop = [\"Unnamed: 0\", \"id\", \"name\"]\n",
    "df_clean = df.drop(columns=columns_to_drop, errors=\"ignore\")\n",
    "df_clean = df_clean.loc[:, ~df_clean.columns.str.isnumeric()]\n",
    "df_clean = df_clean.dropna(subset=[\"chol\", \"num\"])\n",
    "\n",
    "chol_stats = df_clean[\"chol\"].describe()\n",
    "chol_stats"
   ]
  },
  {
   "cell_type": "code",
   "execution_count": 41,
   "id": "c06aeb6a4f64ec2",
   "metadata": {
    "ExecuteTime": {
     "end_time": "2025-03-16T15:27:22.933874Z",
     "start_time": "2025-03-16T15:27:22.747236Z"
    }
   },
   "outputs": [
    {
     "data": {
      "image/png": "[encoded data removed]",
      "text/plain": [
       "<Figure size 800x500 with 1 Axes>"
      ]
     },
     "metadata": {},
     "output_type": "display_data"
    }
   ],
   "source": [
    "# Visualization of cholesterol histogram\n",
    "plt.figure(figsize=(8, 5))\n",
    "sns.histplot(df_clean[\"chol\"], kde=True)\n",
    "plt.xlabel(\"chol (mg/dL)\")\n",
    "plt.ylabel(\"Number of Observations\")\n",
    "plt.title(\"cholesterol histogram\")\n",
    "plt.grid(axis=\"y\", linestyle=\"--\", alpha=0.7)\n",
    "plt.show()"
   ]
  },
  {
   "cell_type": "code",
   "execution_count": 53,
   "id": "3f8c418728aeb27a",
   "metadata": {
    "ExecuteTime": {
     "end_time": "2025-03-16T15:32:33.189756Z",
     "start_time": "2025-03-16T15:32:33.117383Z"
    }
   },
   "outputs": [
    {
     "data": {
      "image/png": "[encoded data removed]",
      "text/plain": [
       "<Figure size 600x600 with 1 Axes>"
      ]
     },
     "metadata": {},
     "output_type": "display_data"
    }
   ],
   "source": [
    "plt.figure(figsize=(6, 6))\n",
    "stats.probplot(df_clean[\"chol\"], dist=\"norm\", plot=plt)\n",
    "plt.title(\"Q-Q plot for cholesterol levels\")\n",
    "plt.grid()\n",
    "plt.show()"
   ]
  },
  {
   "cell_type": "code",
   "execution_count": 58,
   "id": "eda4ab56a22a2c43",
   "metadata": {
    "ExecuteTime": {
     "end_time": "2025-03-16T15:39:32.354244Z",
     "start_time": "2025-03-16T15:39:32.345888Z"
    }
   },
   "outputs": [
    {
     "name": "stdout",
     "output_type": "stream",
     "text": [
      "Shapiro test statistic:  0.9787009882124806\n",
      "p-value:  1.102837400930803e-06\n"
     ]
    }
   ],
   "source": [
    "shapiro_test = stats.shapiro(df_clean[\"chol\"].sample(500, random_state=42))\n",
    "# smaller sample bc test is sensitive to large data sets\n",
    "\n",
    "print(\"Shapiro test statistic: \", shapiro_test[0])\n",
    "print(\"p-value: \", shapiro_test[1])"
   ]
  },
  {
   "cell_type": "code",
   "execution_count": null,
   "id": "6cabd83f86963392",
   "metadata": {
    "ExecuteTime": {
     "end_time": "2025-03-16T15:50:57.233056Z",
     "start_time": "2025-03-16T15:50:57.221204Z"
    }
   },
   "outputs": [
    {
     "name": "stdout",
     "output_type": "stream",
     "text": [
      "KS test statistic:  0.06445231751787805\n",
      "p-value:  2.754661533782824e-05\n"
     ]
    }
   ],
   "source": [
    "# Test Kolmogorov-Smirnov\n",
    "ks_test = stats.kstest(\n",
    "    df_clean[\"chol\"], \"norm\", args=(df_clean[\"chol\"].mean(), df_clean[\"chol\"].std())\n",
    ")\n",
    "print(\"KS test statistic: \", ks_test[0])\n",
    "print(\"p-value: \", ks_test[1])"
   ]
  },
  {
   "cell_type": "markdown",
   "id": "37d4c0a6fdb3580e",
   "metadata": {},
   "source": [
    "p-values są małe -> rozkład nie jest normalny, ale i tak zrobię test t-studenta, bo powinien być nieczuły na brak normalności przy takiej ilości danych, a potem powalcze z normalizacją\n"
   ]
  },
  {
   "cell_type": "code",
   "execution_count": null,
   "id": "d21cc7c6c443f5a5",
   "metadata": {
    "ExecuteTime": {
     "end_time": "2025-03-16T15:42:00.410585Z",
     "start_time": "2025-03-16T15:42:00.405105Z"
    }
   },
   "outputs": [
    {
     "name": "stdout",
     "output_type": "stream",
     "text": [
      "cholesterol means:\n",
      "Healthy:  239.43\n",
      "Disease:  253.63\n"
     ]
    }
   ],
   "source": [
    "chol_healthy = df_clean[df_clean[\"num\"] == 0][\"chol\"]\n",
    "chol_disease = df_clean[df_clean[\"num\"] > 0][\"chol\"]\n",
    "\n",
    "chol_means = {\n",
    "    \"Healthy (num=0)\": round(chol_healthy.mean(), 2),\n",
    "    \"Disease (num>0)\": round(chol_disease.mean(), 2),\n",
    "}\n",
    "\n",
    "print(\"cholesterol means:\")\n",
    "print(\"Healthy: \", chol_means[\"Healthy (num=0)\"])\n",
    "print(\"Disease: \", chol_means[\"Disease (num>0)\"])"
   ]
  },
  {
   "cell_type": "code",
   "execution_count": 28,
   "id": "da9054b38d4f888c",
   "metadata": {
    "ExecuteTime": {
     "end_time": "2025-03-16T15:16:53.604278Z",
     "start_time": "2025-03-16T15:16:53.521612Z"
    }
   },
   "outputs": [
    {
     "data": {
      "image/png": "[encoded data removed]",
      "text/plain": [
       "<Figure size 800x600 with 1 Axes>"
      ]
     },
     "metadata": {},
     "output_type": "display_data"
    }
   ],
   "source": [
    "plt.figure(figsize=(8, 6))\n",
    "sns.boxplot(x=df_clean[\"num\"] > 0, y=df_clean[\"chol\"])\n",
    "plt.xticks(ticks=[0, 1], labels=[\"Healthy (num=0)\", \"Disease (num>0)\"])\n",
    "plt.ylabel(\"Cholesterol level (mg/dL)\")\n",
    "plt.grid(axis=\"y\", linestyle=\"--\", alpha=0.7)\n",
    "plt.show()"
   ]
  },
  {
   "cell_type": "code",
   "execution_count": null,
   "id": "b46337d98baface",
   "metadata": {
    "ExecuteTime": {
     "end_time": "2025-03-16T15:20:25.582091Z",
     "start_time": "2025-03-16T15:20:25.570525Z"
    }
   },
   "outputs": [
    {
     "name": "stdout",
     "output_type": "stream",
     "text": [
      "t-test statistic:  -4.372014523664578\n",
      "p-value:  1.326599209760947e-05\n",
      "p-value less than 0.05 -> we can conclude that the average cholesterol level differs significantly between healthy and diseased individuals.\n"
     ]
    }
   ],
   "source": [
    "# Test t-Student\n",
    "t_stat, p_value = ttest_ind(chol_healthy, chol_disease, equal_var=False)\n",
    "\n",
    "print(\"t-test statistic: \", t_stat)\n",
    "print(\"p-value: \", p_value)\n",
    "print(\n",
    "    \"p-value less than 0.05 -> we can conclude that the average cholesterol level differs significantly between healthy and diseased individuals.\"\n",
    ")"
   ]
  },
  {
   "cell_type": "code",
   "execution_count": null,
   "id": "4a17fe2f7c4c6630",
   "metadata": {},
   "outputs": [],
   "source": [
    "# Mann-Whitney test (Comparison of cholesterol means without normal distribution)\n",
    "mann_whitney_test = stats.mannwhitneyu(\n",
    "    chol_healthy, chol_disease, alternative=\"two-sided\"\n",
    ")\n",
    "\n",
    "print(\"Mann Whitney test statistic: \", mann_whitney_test[0])\n",
    "print(\"p-value: \", mann_whitney_test[1])"
   ]
  },
  {
   "cell_type": "markdown",
   "id": "d96a4b243575dbcc",
   "metadata": {},
   "source": [
    "small p-value -> cholesterol level means differs significantly between healthy and diseased individuals\n"
   ]
  },
  {
   "cell_type": "code",
   "execution_count": null,
   "id": "6b2f35b2b4366ebb",
   "metadata": {},
   "outputs": [],
   "source": [
    "df_clean[\"log_chol\"] = np.log(df_clean[\"chol\"] + 1)\n",
    "\n",
    "shapiro_log_test = stats.shapiro(df_clean[\"log_chol\"].sample(500, random_state=42))\n",
    "ks_log_test = stats.kstest(\n",
    "    df_clean[\"log_chol\"],\n",
    "    \"norm\",\n",
    "    args=(df_clean[\"log_chol\"].mean(), df_clean[\"log_chol\"].std()),\n",
    ")"
   ]
  },
  {
   "cell_type": "code",
   "execution_count": 87,
   "id": "d7f8227833111eab",
   "metadata": {
    "ExecuteTime": {
     "end_time": "2025-03-16T16:17:34.640864Z",
     "start_time": "2025-03-16T16:17:34.519287Z"
    }
   },
   "outputs": [
    {
     "data": {
      "image/png": "[encoded data removed]",
      "text/plain": [
       "<Figure size 800x500 with 1 Axes>"
      ]
     },
     "metadata": {},
     "output_type": "display_data"
    }
   ],
   "source": [
    "# Visualization of log transformation\n",
    "plt.figure(figsize=(8, 5))\n",
    "sns.histplot(df_clean[\"log_chol\"], kde=True)\n",
    "plt.xlabel(\"chol (mg/dL)\")\n",
    "plt.ylabel(\"Number of Observations\")\n",
    "plt.title(\"cholesterol histogram\")\n",
    "plt.grid(axis=\"y\", linestyle=\"--\", alpha=0.7)\n",
    "plt.show()"
   ]
  },
  {
   "cell_type": "markdown",
   "id": "168e6c8193cfab84",
   "metadata": {},
   "source": [
    "nie podoba mi się do końca ten rozkład ale nie ma outlinerów, więc może i lepiej\n"
   ]
  },
  {
   "cell_type": "code",
   "execution_count": 85,
   "id": "5c2cd253de8d2678",
   "metadata": {
    "ExecuteTime": {
     "end_time": "2025-03-16T16:17:05.254110Z",
     "start_time": "2025-03-16T16:17:05.242672Z"
    }
   },
   "outputs": [
    {
     "name": "stdout",
     "output_type": "stream",
     "text": [
      "KS test statistic:  0.04003795899740026\n",
      "p-value:  0.026417564469369936\n",
      "Shapiro test statistics:  0.9804673350190238\n",
      "Shapiro test p-value:  3.0126764038757855e-06\n"
     ]
    }
   ],
   "source": [
    "print(\"KS test statistic: \", ks_log_test[0])\n",
    "print(\"p-value: \", ks_log_test[1])\n",
    "\n",
    "print(\"Shapiro test statistics: \", shapiro_log_test[0])\n",
    "print(\"Shapiro test p-value: \", shapiro_log_test[1])"
   ]
  },
  {
   "cell_type": "markdown",
   "id": "dfece5f49340783e",
   "metadata": {},
   "source": [
    "dalej nie jest to rozkład normalny ale ks ma wmiarę akceptowalną p-wartość, więc robie t-studenta z tej transformacji logarytmicznej\n"
   ]
  },
  {
   "cell_type": "code",
   "execution_count": null,
   "id": "c5e84aa4658bbdf",
   "metadata": {
    "ExecuteTime": {
     "end_time": "2025-03-16T16:04:55.098169Z",
     "start_time": "2025-03-16T16:04:55.081943Z"
    }
   },
   "outputs": [
    {
     "name": "stdout",
     "output_type": "stream",
     "text": [
      "t-test statistic:  -4.5563915096505845\n",
      "p-value:  5.687809824629537e-06\n"
     ]
    }
   ],
   "source": [
    "# Test t-Studenta po transformacji\n",
    "t_stat_log, p_value_log = stats.ttest_ind(\n",
    "    df_clean[df_clean[\"num\"] == 0][\"log_chol\"],\n",
    "    df_clean[df_clean[\"num\"] > 0][\"log_chol\"],\n",
    "    equal_var=False,\n",
    ")\n",
    "print(\"t-test statistic: \", t_stat_log)\n",
    "print(\"p-value: \", p_value_log)"
   ]
  },
  {
   "cell_type": "markdown",
   "id": "55dc2bf1ae92aaf3",
   "metadata": {},
   "source": [
    "wychodzi na to że mozna uznac cholesterol za istotny\n"
   ]
  },
  {
   "cell_type": "code",
   "execution_count": null,
   "id": "739a9cc27a5ae8c5",
   "metadata": {
    "ExecuteTime": {
     "end_time": "2025-03-16T16:12:52.758571Z",
     "start_time": "2025-03-16T16:12:52.744946Z"
    }
   },
   "outputs": [
    {
     "data": {
      "text/plain": [
       "id\n",
       "167     564.00\n",
       "1282    468.00\n",
       "1284    518.00\n",
       "1202    529.00\n",
       "1229    466.00\n",
       "1143    603.00\n",
       "1014    491.00\n",
       "1445    464.40\n",
       "1576    551.00\n",
       "1921    458.15\n",
       "1951    558.25\n",
       "1968    485.10\n",
       "2081    458.00\n",
       "2548    545.00\n",
       "Name: chol, dtype: float64"
      ]
     },
     "execution_count": 83,
     "metadata": {},
     "output_type": "execute_result"
    }
   ],
   "source": [
    "df_clean[df_clean[\"chol\"] > 450][\"chol\"]"
   ]
  }
 ],
 "metadata": {
  "kernelspec": {
   "display_name": "myenv",
   "language": "python",
   "name": "python3"
  },
  "language_info": {
   "codemirror_mode": {
    "name": "ipython",
    "version": 3
   },
   "file_extension": ".py",
   "mimetype": "text/x-python",
   "name": "python",
   "nbconvert_exporter": "python",
   "pygments_lexer": "ipython3",
   "version": "3.12.0"
  }
 },
 "nbformat": 4,
 "nbformat_minor": 5
}
