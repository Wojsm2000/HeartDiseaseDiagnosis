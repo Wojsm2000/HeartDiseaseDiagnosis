{
 "cells": [
  {
   "cell_type": "code",
   "metadata": {
    "ExecuteTime": {
     "end_time": "2025-04-07T08:29:17.289569Z",
     "start_time": "2025-04-07T08:29:16.358040Z"
    }
   },
   "source": [
    "import pandas as pd \n",
    "import numpy as np\n",
    "import matplotlib.pyplot as plt\n",
    "import seaborn as sns\n",
    "from sklearn.model_selection import train_test_split, GridSearchCV\n",
    "from imblearn.over_sampling import SMOTE\n",
    "from sklearn.ensemble import RandomForestClassifier\n",
    "from sklearn.metrics import classification_report, confusion_matrix, accuracy_score\n",
    "import pickle\n",
    "\n",
    "pd.set_option('display.max_rows', None)"
   ],
   "outputs": [],
   "execution_count": 2
  },
  {
   "cell_type": "code",
   "metadata": {
    "ExecuteTime": {
     "end_time": "2025-04-07T08:29:19.454200Z",
     "start_time": "2025-04-07T08:29:19.364409Z"
    }
   },
   "source": [
    "df = pd.read_csv(\"final_named_data.csv\", index_col='id')\n",
    "df.head()"
   ],
   "outputs": [
    {
     "data": {
      "text/plain": [
       "    Unnamed: 0         ccf  age  sex  painloc  painexer  relrest  pncaden  \\\n",
       "id                                                                          \n",
       "1            0  15943882.0   63    1      NaN       NaN      NaN      NaN   \n",
       "2            1  15964847.0   67    1      NaN       NaN      NaN      NaN   \n",
       "3            2  15952199.0   67    1      NaN       NaN      NaN      NaN   \n",
       "4            3  15929464.0   37    1      NaN       NaN      NaN      NaN   \n",
       "6            4  11961207.0   41    0      NaN       NaN      NaN      NaN   \n",
       "\n",
       "     cp  trestbps  ...  76  77  78  81  84   85   86   87   88  name  \n",
       "id                 ...                                                \n",
       "1   1.0     145.0  ... NaN NaN NaN NaN NaN  0.0  0.0  0.0  0.0  name  \n",
       "2   4.0     160.0  ... NaN NaN NaN NaN NaN  0.0  0.0  0.0  0.0  name  \n",
       "3   4.0     120.0  ... NaN NaN NaN NaN NaN  0.0  0.0  0.0  0.0  name  \n",
       "4   3.0     130.0  ... NaN NaN NaN NaN NaN  0.0  0.0  0.0  0.0  name  \n",
       "6   2.0     130.0  ... NaN NaN NaN NaN NaN  0.0  0.0  0.0  0.0  name  \n",
       "\n",
       "[5 rows x 83 columns]"
      ],
      "text/html": [
       "<div>\n",
       "<style scoped>\n",
       "    .dataframe tbody tr th:only-of-type {\n",
       "        vertical-align: middle;\n",
       "    }\n",
       "\n",
       "    .dataframe tbody tr th {\n",
       "        vertical-align: top;\n",
       "    }\n",
       "\n",
       "    .dataframe thead th {\n",
       "        text-align: right;\n",
       "    }\n",
       "</style>\n",
       "<table border=\"1\" class=\"dataframe\">\n",
       "  <thead>\n",
       "    <tr style=\"text-align: right;\">\n",
       "      <th></th>\n",
       "      <th>Unnamed: 0</th>\n",
       "      <th>ccf</th>\n",
       "      <th>age</th>\n",
       "      <th>sex</th>\n",
       "      <th>painloc</th>\n",
       "      <th>painexer</th>\n",
       "      <th>relrest</th>\n",
       "      <th>pncaden</th>\n",
       "      <th>cp</th>\n",
       "      <th>trestbps</th>\n",
       "      <th>...</th>\n",
       "      <th>76</th>\n",
       "      <th>77</th>\n",
       "      <th>78</th>\n",
       "      <th>81</th>\n",
       "      <th>84</th>\n",
       "      <th>85</th>\n",
       "      <th>86</th>\n",
       "      <th>87</th>\n",
       "      <th>88</th>\n",
       "      <th>name</th>\n",
       "    </tr>\n",
       "    <tr>\n",
       "      <th>id</th>\n",
       "      <th></th>\n",
       "      <th></th>\n",
       "      <th></th>\n",
       "      <th></th>\n",
       "      <th></th>\n",
       "      <th></th>\n",
       "      <th></th>\n",
       "      <th></th>\n",
       "      <th></th>\n",
       "      <th></th>\n",
       "      <th></th>\n",
       "      <th></th>\n",
       "      <th></th>\n",
       "      <th></th>\n",
       "      <th></th>\n",
       "      <th></th>\n",
       "      <th></th>\n",
       "      <th></th>\n",
       "      <th></th>\n",
       "      <th></th>\n",
       "      <th></th>\n",
       "    </tr>\n",
       "  </thead>\n",
       "  <tbody>\n",
       "    <tr>\n",
       "      <th>1</th>\n",
       "      <td>0</td>\n",
       "      <td>15943882.0</td>\n",
       "      <td>63</td>\n",
       "      <td>1</td>\n",
       "      <td>NaN</td>\n",
       "      <td>NaN</td>\n",
       "      <td>NaN</td>\n",
       "      <td>NaN</td>\n",
       "      <td>1.0</td>\n",
       "      <td>145.0</td>\n",
       "      <td>...</td>\n",
       "      <td>NaN</td>\n",
       "      <td>NaN</td>\n",
       "      <td>NaN</td>\n",
       "      <td>NaN</td>\n",
       "      <td>NaN</td>\n",
       "      <td>0.0</td>\n",
       "      <td>0.0</td>\n",
       "      <td>0.0</td>\n",
       "      <td>0.0</td>\n",
       "      <td>name</td>\n",
       "    </tr>\n",
       "    <tr>\n",
       "      <th>2</th>\n",
       "      <td>1</td>\n",
       "      <td>15964847.0</td>\n",
       "      <td>67</td>\n",
       "      <td>1</td>\n",
       "      <td>NaN</td>\n",
       "      <td>NaN</td>\n",
       "      <td>NaN</td>\n",
       "      <td>NaN</td>\n",
       "      <td>4.0</td>\n",
       "      <td>160.0</td>\n",
       "      <td>...</td>\n",
       "      <td>NaN</td>\n",
       "      <td>NaN</td>\n",
       "      <td>NaN</td>\n",
       "      <td>NaN</td>\n",
       "      <td>NaN</td>\n",
       "      <td>0.0</td>\n",
       "      <td>0.0</td>\n",
       "      <td>0.0</td>\n",
       "      <td>0.0</td>\n",
       "      <td>name</td>\n",
       "    </tr>\n",
       "    <tr>\n",
       "      <th>3</th>\n",
       "      <td>2</td>\n",
       "      <td>15952199.0</td>\n",
       "      <td>67</td>\n",
       "      <td>1</td>\n",
       "      <td>NaN</td>\n",
       "      <td>NaN</td>\n",
       "      <td>NaN</td>\n",
       "      <td>NaN</td>\n",
       "      <td>4.0</td>\n",
       "      <td>120.0</td>\n",
       "      <td>...</td>\n",
       "      <td>NaN</td>\n",
       "      <td>NaN</td>\n",
       "      <td>NaN</td>\n",
       "      <td>NaN</td>\n",
       "      <td>NaN</td>\n",
       "      <td>0.0</td>\n",
       "      <td>0.0</td>\n",
       "      <td>0.0</td>\n",
       "      <td>0.0</td>\n",
       "      <td>name</td>\n",
       "    </tr>\n",
       "    <tr>\n",
       "      <th>4</th>\n",
       "      <td>3</td>\n",
       "      <td>15929464.0</td>\n",
       "      <td>37</td>\n",
       "      <td>1</td>\n",
       "      <td>NaN</td>\n",
       "      <td>NaN</td>\n",
       "      <td>NaN</td>\n",
       "      <td>NaN</td>\n",
       "      <td>3.0</td>\n",
       "      <td>130.0</td>\n",
       "      <td>...</td>\n",
       "      <td>NaN</td>\n",
       "      <td>NaN</td>\n",
       "      <td>NaN</td>\n",
       "      <td>NaN</td>\n",
       "      <td>NaN</td>\n",
       "      <td>0.0</td>\n",
       "      <td>0.0</td>\n",
       "      <td>0.0</td>\n",
       "      <td>0.0</td>\n",
       "      <td>name</td>\n",
       "    </tr>\n",
       "    <tr>\n",
       "      <th>6</th>\n",
       "      <td>4</td>\n",
       "      <td>11961207.0</td>\n",
       "      <td>41</td>\n",
       "      <td>0</td>\n",
       "      <td>NaN</td>\n",
       "      <td>NaN</td>\n",
       "      <td>NaN</td>\n",
       "      <td>NaN</td>\n",
       "      <td>2.0</td>\n",
       "      <td>130.0</td>\n",
       "      <td>...</td>\n",
       "      <td>NaN</td>\n",
       "      <td>NaN</td>\n",
       "      <td>NaN</td>\n",
       "      <td>NaN</td>\n",
       "      <td>NaN</td>\n",
       "      <td>0.0</td>\n",
       "      <td>0.0</td>\n",
       "      <td>0.0</td>\n",
       "      <td>0.0</td>\n",
       "      <td>name</td>\n",
       "    </tr>\n",
       "  </tbody>\n",
       "</table>\n",
       "<p>5 rows × 83 columns</p>\n",
       "</div>"
      ]
     },
     "execution_count": 3,
     "metadata": {},
     "output_type": "execute_result"
    }
   ],
   "execution_count": 3
  },
  {
   "cell_type": "code",
   "metadata": {
    "ExecuteTime": {
     "end_time": "2025-04-07T08:29:28.433703Z",
     "start_time": "2025-04-07T08:29:28.417397Z"
    }
   },
   "source": [
    "df = df.drop(['Unnamed: 0', 'name'], axis=1)"
   ],
   "outputs": [],
   "execution_count": 4
  },
  {
   "cell_type": "code",
   "execution_count": 37,
   "metadata": {},
   "outputs": [],
   "source": [
    "# if not smoke -> cigs=0\n",
    "# if cigs=0 -> smoke=0\n",
    "# if cigs != 0 -> smoke = 1\n",
    "df.loc[df['smoke']==0, 'cigs'] = 0\n",
    "df.loc[df['cigs']==0, 'smoke'] = 0\n",
    "df.loc[(df['cigs']!=0) & (df['cigs'].notna()), 'smoke'] = 1"
   ]
  },
  {
   "cell_type": "markdown",
   "metadata": {},
   "source": [
    "### Remove rows and columns with too many missing values"
   ]
  },
  {
   "cell_type": "code",
   "metadata": {
    "ExecuteTime": {
     "end_time": "2025-04-07T08:29:52.901135Z",
     "start_time": "2025-04-07T08:29:52.795397Z"
    }
   },
   "source": [
    "def clean_data(df, max_missing_ratio_row, max_missing_ratio_column):\n",
    "    \n",
    "    missing_ratio_per_row = df.isna().mean(axis=1)\n",
    "    df_cleaned_rows = df[missing_ratio_per_row < max_missing_ratio_row]\n",
    "\n",
    "    missing_ratio_per_column = df_cleaned_rows.isna().mean(axis=0)\n",
    "    df_cleaned = df_cleaned_rows.loc[:, missing_ratio_per_column < max_missing_ratio_column]\n",
    "\n",
    "    return df_cleaned\n",
    "\n",
    "max_missing_ratio_row = 0.5\n",
    "max_missing_ratio_column = 0.5\n",
    "df_cleaned = clean_data(df, max_missing_ratio_row, max_missing_ratio_column)\n",
    "df_cleaned.shape"
   ],
   "outputs": [
    {
     "data": {
      "text/plain": [
       "(1343, 60)"
      ]
     },
     "execution_count": 6,
     "metadata": {},
     "output_type": "execute_result"
    }
   ],
   "execution_count": 6
  },
  {
   "cell_type": "code",
   "metadata": {
    "ExecuteTime": {
     "end_time": "2025-04-07T08:29:48.409586Z",
     "start_time": "2025-04-07T08:29:48.183763Z"
    }
   },
   "source": [
    "df_cleaned.head()"
   ],
   "outputs": [
    {
     "ename": "NameError",
     "evalue": "name 'df_cleaned' is not defined",
     "output_type": "error",
     "traceback": [
      "\u001B[1;31m---------------------------------------------------------------------------\u001B[0m",
      "\u001B[1;31mNameError\u001B[0m                                 Traceback (most recent call last)",
      "Cell \u001B[1;32mIn[5], line 1\u001B[0m\n\u001B[1;32m----> 1\u001B[0m \u001B[43mdf_cleaned\u001B[49m\u001B[38;5;241m.\u001B[39mhead()\n",
      "\u001B[1;31mNameError\u001B[0m: name 'df_cleaned' is not defined"
     ]
    }
   ],
   "execution_count": 5
  },
  {
   "cell_type": "code",
   "execution_count": 7,
   "metadata": {},
   "outputs": [],
   "source": [
    "df_cleaned.to_csv(\"final_named_and_cleaned_data_0_5.csv\")"
   ]
  },
  {
   "cell_type": "code",
   "execution_count": 39,
   "metadata": {},
   "outputs": [
    {
     "data": {
      "text/plain": [
       "ccf           6\n",
       "age           0\n",
       "sex           0\n",
       "painloc     311\n",
       "painexer    587\n",
       "relrest     595\n",
       "pncaden     604\n",
       "cp            1\n",
       "trestbps     53\n",
       "htn          43\n",
       "chol        162\n",
       "smoke       647\n",
       "cigs        657\n",
       "fbs          88\n",
       "dm            0\n",
       "restecg       2\n",
       "ekgmo       137\n",
       "ekgday      142\n",
       "ekgyr       137\n",
       "dig         166\n",
       "prop        162\n",
       "nitr        164\n",
       "pro         161\n",
       "diuretic    181\n",
       "27          197\n",
       "thaldur      50\n",
       "thaltime    643\n",
       "met         139\n",
       "thalach     140\n",
       "thalrest    142\n",
       "tpeakbps    151\n",
       "trestbpd    156\n",
       "tpeakbpd    147\n",
       "36          148\n",
       "exang       146\n",
       "xhypo       148\n",
       "oldpeak     147\n",
       "slope       392\n",
       "cmo         312\n",
       "cday        311\n",
       "cyr         313\n",
       "num           0\n",
       "lmt         332\n",
       "ladprox     279\n",
       "laddist     292\n",
       "diag        634\n",
       "cxmain      283\n",
       "ramus       649\n",
       "om1         324\n",
       "om2         654\n",
       "rcaprox     298\n",
       "rcadist     313\n",
       "lvx1         71\n",
       "lvx2         72\n",
       "lvx3         73\n",
       "lvx4         72\n",
       "lvf          33\n",
       "75           54\n",
       "85           51\n",
       "86           51\n",
       "87           51\n",
       "88           51\n",
       "dtype: int64"
      ]
     },
     "execution_count": 39,
     "metadata": {},
     "output_type": "execute_result"
    }
   ],
   "source": [
    "df_cleaned.isna().sum()"
   ]
  },
  {
   "cell_type": "markdown",
   "metadata": {},
   "source": [
    "### Division of data into training and testing"
   ]
  },
  {
   "cell_type": "code",
   "execution_count": 40,
   "metadata": {},
   "outputs": [],
   "source": [
    "X = df_cleaned.drop(columns=['num'])\n",
    "y = df_cleaned['num']\n",
    "\n",
    "X_train, X_test, y_train, y_test = train_test_split(X, y, test_size=0.2, random_state=42)"
   ]
  },
  {
   "cell_type": "markdown",
   "metadata": {},
   "source": [
    "## Modeling"
   ]
  },
  {
   "cell_type": "markdown",
   "metadata": {},
   "source": [
    "### Random Forest "
   ]
  },
  {
   "cell_type": "code",
   "execution_count": 27,
   "metadata": {},
   "outputs": [
    {
     "name": "stdout",
     "output_type": "stream",
     "text": [
      "Najlepsze hiperparametry dla RandomForestClassifier: {'max_depth': None, 'min_samples_leaf': 1, 'min_samples_split': 5, 'n_estimators': 300}\n"
     ]
    }
   ],
   "source": [
    "rf = RandomForestClassifier(random_state=42)\n",
    "\n",
    "grid_params = {\n",
    "    'n_estimators': [100, 200, 300],\n",
    "    'max_depth': [None, 10, 20, 30],\n",
    "    'min_samples_split': [2, 5, 10],\n",
    "    'min_samples_leaf': [1, 2, 4]\n",
    "}\n",
    "\n",
    "grid_search = GridSearchCV(rf, grid_params, cv=5)\n",
    "grid_search.fit(X_train, y_train)\n",
    "\n",
    "best_params = grid_search.best_params_\n",
    "print(f\"Najlepsze hiperparametry dla RandomForestClassifier: {best_params}\")"
   ]
  },
  {
   "cell_type": "code",
   "execution_count": 30,
   "metadata": {},
   "outputs": [],
   "source": [
    "best_rf = grid_search.best_estimator_\n",
    "with open('random_forest_model.pkl', 'wb') as f:\n",
    "    pickle.dump(best_rf, f)"
   ]
  },
  {
   "cell_type": "code",
   "execution_count": 27,
   "metadata": {},
   "outputs": [],
   "source": [
    "def load_model_and_show_metrics(filename, title):\n",
    "    with open(filename, 'rb') as f:\n",
    "        best_rf = pickle.load(f)\n",
    "\n",
    "    y_pred = best_rf.predict(X_test)\n",
    "\n",
    "    print(\"Classification report:\")\n",
    "    print(classification_report(y_test, y_pred))\n",
    "\n",
    "    conf_matrix = confusion_matrix(y_test, y_pred)\n",
    "    plt.figure(figsize=(10, 7))\n",
    "    sns.heatmap(conf_matrix, annot=True, fmt='d', cmap='Blues', xticklabels=set(y_test), yticklabels=set(y_test))\n",
    "    plt.xlabel(\"Predicted label\")\n",
    "    plt.ylabel(\"True label\")\n",
    "    plt.title(title)\n",
    "    plt.show()\n",
    "\n",
    "    return y_pred "
   ]
  },
  {
   "cell_type": "code",
   "execution_count": 41,
   "metadata": {},
   "outputs": [
    {
     "name": "stdout",
     "output_type": "stream",
     "text": [
      "Classification report:\n",
      "              precision    recall  f1-score   support\n",
      "\n",
      "           0       0.87      1.00      0.93       103\n",
      "           1       0.85      0.69      0.76        68\n",
      "           2       0.73      0.63      0.67        51\n",
      "           3       0.69      0.81      0.74        36\n",
      "           4       1.00      0.83      0.91        12\n",
      "\n",
      "    accuracy                           0.82       270\n",
      "   macro avg       0.83      0.79      0.80       270\n",
      "weighted avg       0.82      0.82      0.81       270\n",
      "\n"
     ]
    },
    {
     "data": {
      "image/png": "[encoded data removed]",
      "text/plain": [
       "<Figure size 1000x700 with 2 Axes>"
      ]
     },
     "metadata": {},
     "output_type": "display_data"
    }
   ],
   "source": [
    "y_pred = load_model_and_show_metrics('random_forest_model.pkl', \"Confusion Matrix for Random Forest Model\")"
   ]
  },
  {
   "cell_type": "markdown",
   "metadata": {},
   "source": [
    "**Feature importances**"
   ]
  },
  {
   "cell_type": "code",
   "execution_count": 22,
   "metadata": {},
   "outputs": [
    {
     "data": {
      "image/png": "[encoded data removed]",
      "text/plain": [
       "<Figure size 1500x600 with 1 Axes>"
      ]
     },
     "metadata": {},
     "output_type": "display_data"
    }
   ],
   "source": [
    "importances = best_rf.feature_importances_\n",
    "feature_names = X_train.columns \n",
    "\n",
    "sorted_idx = np.argsort(importances)[::-1] \n",
    "sorted_importances = importances[sorted_idx]\n",
    "sorted_features = feature_names[sorted_idx]\n",
    "\n",
    "plt.figure(figsize=(15, 6))\n",
    "plt.bar(sorted_features, sorted_importances, color='skyblue')\n",
    "plt.xlabel(\"Cechy\")\n",
    "plt.ylabel(\"Ważność\")\n",
    "plt.title(\"Ważność cech w Random Forest\")\n",
    "plt.xticks(rotation=90)\n",
    "plt.show()"
   ]
  },
  {
   "cell_type": "markdown",
   "metadata": {},
   "source": [
    "## Final cleaning"
   ]
  },
  {
   "cell_type": "code",
   "execution_count": 5,
   "metadata": {},
   "outputs": [
    {
     "data": {
      "text/html": [
       "<div>\n",
       "<style scoped>\n",
       "    .dataframe tbody tr th:only-of-type {\n",
       "        vertical-align: middle;\n",
       "    }\n",
       "\n",
       "    .dataframe tbody tr th {\n",
       "        vertical-align: top;\n",
       "    }\n",
       "\n",
       "    .dataframe thead th {\n",
       "        text-align: right;\n",
       "    }\n",
       "</style>\n",
       "<table border=\"1\" class=\"dataframe\">\n",
       "  <thead>\n",
       "    <tr style=\"text-align: right;\">\n",
       "      <th></th>\n",
       "      <th>Unnamed: 0</th>\n",
       "      <th>age</th>\n",
       "      <th>sex</th>\n",
       "      <th>painloc</th>\n",
       "      <th>painexer</th>\n",
       "      <th>relrest</th>\n",
       "      <th>pncaden</th>\n",
       "      <th>cp</th>\n",
       "      <th>trestbps</th>\n",
       "      <th>htn</th>\n",
       "      <th>...</th>\n",
       "      <th>lvx2</th>\n",
       "      <th>lvx3</th>\n",
       "      <th>lvx4</th>\n",
       "      <th>lvf</th>\n",
       "      <th>75</th>\n",
       "      <th>85</th>\n",
       "      <th>86</th>\n",
       "      <th>87</th>\n",
       "      <th>88</th>\n",
       "      <th>framingham_score</th>\n",
       "    </tr>\n",
       "  </thead>\n",
       "  <tbody>\n",
       "    <tr>\n",
       "      <th>0</th>\n",
       "      <td>0</td>\n",
       "      <td>63</td>\n",
       "      <td>1</td>\n",
       "      <td>1.0</td>\n",
       "      <td>1.0</td>\n",
       "      <td>1.0</td>\n",
       "      <td>3.0</td>\n",
       "      <td>1.0</td>\n",
       "      <td>145.0</td>\n",
       "      <td>1.0</td>\n",
       "      <td>...</td>\n",
       "      <td>1.0</td>\n",
       "      <td>1.0</td>\n",
       "      <td>1.0</td>\n",
       "      <td>1.0</td>\n",
       "      <td>0.0</td>\n",
       "      <td>0.0</td>\n",
       "      <td>0.0</td>\n",
       "      <td>0.0</td>\n",
       "      <td>0.0</td>\n",
       "      <td>18</td>\n",
       "    </tr>\n",
       "    <tr>\n",
       "      <th>1</th>\n",
       "      <td>1</td>\n",
       "      <td>67</td>\n",
       "      <td>1</td>\n",
       "      <td>1.0</td>\n",
       "      <td>1.0</td>\n",
       "      <td>1.0</td>\n",
       "      <td>3.0</td>\n",
       "      <td>4.0</td>\n",
       "      <td>160.0</td>\n",
       "      <td>1.0</td>\n",
       "      <td>...</td>\n",
       "      <td>1.0</td>\n",
       "      <td>1.0</td>\n",
       "      <td>1.0</td>\n",
       "      <td>1.0</td>\n",
       "      <td>0.0</td>\n",
       "      <td>0.0</td>\n",
       "      <td>0.0</td>\n",
       "      <td>0.0</td>\n",
       "      <td>0.0</td>\n",
       "      <td>20</td>\n",
       "    </tr>\n",
       "    <tr>\n",
       "      <th>2</th>\n",
       "      <td>2</td>\n",
       "      <td>67</td>\n",
       "      <td>1</td>\n",
       "      <td>1.0</td>\n",
       "      <td>1.0</td>\n",
       "      <td>1.0</td>\n",
       "      <td>3.0</td>\n",
       "      <td>4.0</td>\n",
       "      <td>120.0</td>\n",
       "      <td>1.0</td>\n",
       "      <td>...</td>\n",
       "      <td>1.0</td>\n",
       "      <td>1.0</td>\n",
       "      <td>7.0</td>\n",
       "      <td>3.0</td>\n",
       "      <td>0.0</td>\n",
       "      <td>0.0</td>\n",
       "      <td>0.0</td>\n",
       "      <td>0.0</td>\n",
       "      <td>0.0</td>\n",
       "      <td>17</td>\n",
       "    </tr>\n",
       "    <tr>\n",
       "      <th>3</th>\n",
       "      <td>3</td>\n",
       "      <td>37</td>\n",
       "      <td>1</td>\n",
       "      <td>1.0</td>\n",
       "      <td>1.0</td>\n",
       "      <td>1.0</td>\n",
       "      <td>3.0</td>\n",
       "      <td>3.0</td>\n",
       "      <td>130.0</td>\n",
       "      <td>0.0</td>\n",
       "      <td>...</td>\n",
       "      <td>1.0</td>\n",
       "      <td>1.0</td>\n",
       "      <td>1.0</td>\n",
       "      <td>1.0</td>\n",
       "      <td>0.0</td>\n",
       "      <td>0.0</td>\n",
       "      <td>0.0</td>\n",
       "      <td>0.0</td>\n",
       "      <td>0.0</td>\n",
       "      <td>7</td>\n",
       "    </tr>\n",
       "    <tr>\n",
       "      <th>4</th>\n",
       "      <td>4</td>\n",
       "      <td>41</td>\n",
       "      <td>0</td>\n",
       "      <td>1.0</td>\n",
       "      <td>0.0</td>\n",
       "      <td>1.0</td>\n",
       "      <td>1.0</td>\n",
       "      <td>2.0</td>\n",
       "      <td>130.0</td>\n",
       "      <td>1.0</td>\n",
       "      <td>...</td>\n",
       "      <td>1.0</td>\n",
       "      <td>1.0</td>\n",
       "      <td>1.0</td>\n",
       "      <td>1.0</td>\n",
       "      <td>0.0</td>\n",
       "      <td>0.0</td>\n",
       "      <td>0.0</td>\n",
       "      <td>0.0</td>\n",
       "      <td>0.0</td>\n",
       "      <td>9</td>\n",
       "    </tr>\n",
       "  </tbody>\n",
       "</table>\n",
       "<p>5 rows × 57 columns</p>\n",
       "</div>"
      ],
      "text/plain": [
       "   Unnamed: 0  age  sex  painloc  painexer  relrest  pncaden   cp  trestbps  \\\n",
       "0           0   63    1      1.0       1.0      1.0      3.0  1.0     145.0   \n",
       "1           1   67    1      1.0       1.0      1.0      3.0  4.0     160.0   \n",
       "2           2   67    1      1.0       1.0      1.0      3.0  4.0     120.0   \n",
       "3           3   37    1      1.0       1.0      1.0      3.0  3.0     130.0   \n",
       "4           4   41    0      1.0       0.0      1.0      1.0  2.0     130.0   \n",
       "\n",
       "   htn  ...  lvx2  lvx3  lvx4  lvf   75   85   86   87   88  framingham_score  \n",
       "0  1.0  ...   1.0   1.0   1.0  1.0  0.0  0.0  0.0  0.0  0.0                18  \n",
       "1  1.0  ...   1.0   1.0   1.0  1.0  0.0  0.0  0.0  0.0  0.0                20  \n",
       "2  1.0  ...   1.0   1.0   7.0  3.0  0.0  0.0  0.0  0.0  0.0                17  \n",
       "3  0.0  ...   1.0   1.0   1.0  1.0  0.0  0.0  0.0  0.0  0.0                 7  \n",
       "4  1.0  ...   1.0   1.0   1.0  1.0  0.0  0.0  0.0  0.0  0.0                 9  \n",
       "\n",
       "[5 rows x 57 columns]"
      ]
     },
     "execution_count": 5,
     "metadata": {},
     "output_type": "execute_result"
    }
   ],
   "source": [
    "df = pd.read_csv(\"final_named_and_cleaned_data_0_5_with_fram.csv\")\n",
    "df.head()"
   ]
  },
  {
   "cell_type": "code",
   "execution_count": 14,
   "metadata": {},
   "outputs": [
    {
     "data": {
      "text/plain": [
       "age                 0\n",
       "sex                 0\n",
       "painloc             0\n",
       "painexer            0\n",
       "relrest             0\n",
       "pncaden             0\n",
       "cp                  0\n",
       "trestbps            0\n",
       "htn                 0\n",
       "chol                0\n",
       "smoke               0\n",
       "cigs                0\n",
       "fbs                 0\n",
       "dm                  0\n",
       "restecg             0\n",
       "dig                 0\n",
       "prop                0\n",
       "nitr                0\n",
       "pro                 0\n",
       "diuretic            0\n",
       "thaldur             0\n",
       "thaltime            0\n",
       "met                 0\n",
       "thalach             0\n",
       "thalrest            0\n",
       "tpeakbps            0\n",
       "trestbpd            0\n",
       "tpeakbpd            0\n",
       "36                  0\n",
       "exang               0\n",
       "xhypo               0\n",
       "oldpeak             0\n",
       "slope               0\n",
       "num                 0\n",
       "lmt                 0\n",
       "ladprox             0\n",
       "laddist             0\n",
       "diag                0\n",
       "cxmain              0\n",
       "ramus               0\n",
       "om1                 0\n",
       "om2                 0\n",
       "rcaprox             0\n",
       "rcadist             0\n",
       "framingham_score    0\n",
       "dtype: int64"
      ]
     },
     "execution_count": 14,
     "metadata": {},
     "output_type": "execute_result"
    }
   ],
   "source": [
    "df.isna().sum()"
   ]
  },
  {
   "cell_type": "code",
   "execution_count": 13,
   "metadata": {},
   "outputs": [
    {
     "data": {
      "text/html": [
       "<div>\n",
       "<style scoped>\n",
       "    .dataframe tbody tr th:only-of-type {\n",
       "        vertical-align: middle;\n",
       "    }\n",
       "\n",
       "    .dataframe tbody tr th {\n",
       "        vertical-align: top;\n",
       "    }\n",
       "\n",
       "    .dataframe thead th {\n",
       "        text-align: right;\n",
       "    }\n",
       "</style>\n",
       "<table border=\"1\" class=\"dataframe\">\n",
       "  <thead>\n",
       "    <tr style=\"text-align: right;\">\n",
       "      <th></th>\n",
       "      <th>cigs</th>\n",
       "      <th>smoke</th>\n",
       "    </tr>\n",
       "  </thead>\n",
       "  <tbody>\n",
       "  </tbody>\n",
       "</table>\n",
       "</div>"
      ],
      "text/plain": [
       "Empty DataFrame\n",
       "Columns: [cigs, smoke]\n",
       "Index: []"
      ]
     },
     "execution_count": 13,
     "metadata": {},
     "output_type": "execute_result"
    }
   ],
   "source": [
    "df.loc[df['smoke']==0, 'cigs'] = 0\n",
    "df[df.cigs.isna()][['cigs', 'smoke']].head(20)\n"
   ]
  },
  {
   "cell_type": "code",
   "execution_count": 8,
   "metadata": {},
   "outputs": [],
   "source": [
    "df.drop(\n",
    "    columns=['Unnamed: 0', 'lvx1', 'lvx2', 'lvx3', 'lvx4', 'lvf', '75', '85',\n",
    "       '86', '87', '88', '27'], inplace=True\n",
    ")"
   ]
  },
  {
   "cell_type": "code",
   "execution_count": 15,
   "metadata": {},
   "outputs": [],
   "source": [
    "df.to_csv(\"final_named_and_final_cleaned_data_0_5_with_fram.csv\")\n"
   ]
  },
  {
   "cell_type": "markdown",
   "metadata": {
    "jp-MarkdownHeadingCollapsed": true
   },
   "source": [
    "## Dealing with imbalance - SMOTE"
   ]
  },
  {
   "cell_type": "code",
   "execution_count": 16,
   "metadata": {},
   "outputs": [
    {
     "data": {
      "image/png": "[encoded data removed]",
      "text/plain": [
       "<Figure size 640x480 with 1 Axes>"
      ]
     },
     "metadata": {},
     "output_type": "display_data"
    }
   ],
   "source": [
    "sns.countplot(x=df['num'], color='deepskyblue', alpha=0.5)\n",
    "plt.show()"
   ]
  },
  {
   "cell_type": "code",
   "execution_count": null,
   "metadata": {},
   "outputs": [],
   "source": [
    "X = df.drop(columns=['num'])\n",
    "y = df['num']\n",
    "\n",
    "X_train, X_test, y_train, y_test = train_test_split(X, y, test_size=0.2, random_state=42)"
   ]
  },
  {
   "cell_type": "code",
   "execution_count": 21,
   "metadata": {},
   "outputs": [
    {
     "name": "stdout",
     "output_type": "stream",
     "text": [
      "(1347, 44)\n",
      "Class 0: 581 samples\n",
      "Class 2: 209 samples\n",
      "Class 1: 269 samples\n",
      "Class 3: 219 samples\n",
      "Class 4: 69 samples\n",
      "(2390, 44)\n",
      "Class 0: 478 samples\n",
      "Class 2: 478 samples\n",
      "Class 1: 478 samples\n",
      "Class 3: 478 samples\n",
      "Class 4: 478 samples\n"
     ]
    }
   ],
   "source": [
    "print(X.shape)\n",
    "for i in df['num'].unique():\n",
    "    print(f\"Class {i}: {y.value_counts()[i]} samples\")\n",
    "\n",
    "smote = SMOTE(random_state=42)\n",
    "X_smote, y_smote = smote.fit_resample(X_train, y_train)\n",
    "print(X_smote.shape)\n",
    "for i in df['num'].unique():\n",
    "    print(f\"Class {i}: {y_smote.value_counts()[i]} samples\")"
   ]
  },
  {
   "cell_type": "markdown",
   "metadata": {},
   "source": [
    "# Modeling"
   ]
  },
  {
   "cell_type": "markdown",
   "metadata": {},
   "source": [
    "### After dealing with NaNs"
   ]
  },
  {
   "cell_type": "code",
   "execution_count": 23,
   "metadata": {},
   "outputs": [
    {
     "name": "stdout",
     "output_type": "stream",
     "text": [
      "Najlepsze hiperparametry dla RandomForestClassifier: {'max_depth': 20, 'min_samples_leaf': 1, 'min_samples_split': 2, 'n_estimators': 300}\n"
     ]
    }
   ],
   "source": [
    "rf = RandomForestClassifier(random_state=42)\n",
    "\n",
    "grid_params = {\n",
    "    'n_estimators': [100, 200, 300],\n",
    "    'max_depth': [None, 10, 20, 30],\n",
    "    'min_samples_split': [2, 5, 10],\n",
    "    'min_samples_leaf': [1, 2, 4]\n",
    "}\n",
    "\n",
    "grid_search = GridSearchCV(rf, grid_params, cv=5)\n",
    "grid_search.fit(X_train, y_train)\n",
    "\n",
    "best_params = grid_search.best_params_\n",
    "print(f\"Najlepsze hiperparametry dla RandomForestClassifier: {best_params}\")\n",
    "\n",
    "best_rf = grid_search.best_estimator_\n",
    "with open('random_forest_model_not_nans.pkl', 'wb') as f:\n",
    "    pickle.dump(best_rf, f)"
   ]
  },
  {
   "cell_type": "code",
   "execution_count": 29,
   "metadata": {},
   "outputs": [
    {
     "name": "stdout",
     "output_type": "stream",
     "text": [
      "Classification report:\n",
      "              precision    recall  f1-score   support\n",
      "\n",
      "           0       0.85      0.98      0.91       103\n",
      "           1       0.74      0.62      0.67        68\n",
      "           2       0.73      0.53      0.61        51\n",
      "           3       0.67      0.83      0.74        36\n",
      "           4       0.83      0.83      0.83        12\n",
      "\n",
      "    accuracy                           0.78       270\n",
      "   macro avg       0.76      0.76      0.75       270\n",
      "weighted avg       0.77      0.78      0.77       270\n",
      "\n"
     ]
    },
    {
     "data": {
      "image/png": "[encoded data removed]",
      "text/plain": [
       "<Figure size 1000x700 with 2 Axes>"
      ]
     },
     "metadata": {},
     "output_type": "display_data"
    }
   ],
   "source": [
    "y_pred_2 = load_model_and_show_metrics('random_forest_model_not_nans.pkl', \"Random Forest with no NaNs\")"
   ]
  },
  {
   "cell_type": "markdown",
   "metadata": {},
   "source": [
    "### After SMOTE"
   ]
  },
  {
   "cell_type": "code",
   "execution_count": 33,
   "metadata": {},
   "outputs": [
    {
     "name": "stdout",
     "output_type": "stream",
     "text": [
      "Najlepsze hiperparametry dla RandomForestClassifier po SMOTE: {'max_depth': 20, 'min_samples_leaf': 1, 'min_samples_split': 2, 'n_estimators': 300}\n"
     ]
    }
   ],
   "source": [
    "rf = RandomForestClassifier(random_state=42)\n",
    "\n",
    "grid_params = {\n",
    "    'n_estimators': [100, 200, 300, 500, 1000],\n",
    "    'max_depth': [None, 10, 20, 30],\n",
    "    'min_samples_split': [2, 5, 10],\n",
    "    'min_samples_leaf': [1, 2, 4]\n",
    "}\n",
    "\n",
    "grid_search = GridSearchCV(rf, grid_params, cv=5)\n",
    "grid_search.fit(X_smote, y_smote)\n",
    "\n",
    "best_params = grid_search.best_params_\n",
    "print(f\"Najlepsze hiperparametry dla RandomForestClassifier po SMOTE: {best_params}\")\n",
    "\n",
    "best_rf = grid_search.best_estimator_\n",
    "with open('random_forest_model_not_nans_smote.pkl', 'wb') as f:\n",
    "    pickle.dump(best_rf, f)"
   ]
  },
  {
   "cell_type": "code",
   "execution_count": 34,
   "metadata": {},
   "outputs": [
    {
     "name": "stdout",
     "output_type": "stream",
     "text": [
      "Classification report:\n",
      "              precision    recall  f1-score   support\n",
      "\n",
      "           0       0.85      0.98      0.91       103\n",
      "           1       0.79      0.60      0.68        68\n",
      "           2       0.72      0.61      0.66        51\n",
      "           3       0.70      0.83      0.76        36\n",
      "           4       0.85      0.92      0.88        12\n",
      "\n",
      "    accuracy                           0.79       270\n",
      "   macro avg       0.78      0.79      0.78       270\n",
      "weighted avg       0.79      0.79      0.78       270\n",
      "\n"
     ]
    },
    {
     "data": {
      "image/png": "[encoded data removed]",
      "text/plain": [
       "<Figure size 1000x700 with 2 Axes>"
      ]
     },
     "metadata": {},
     "output_type": "display_data"
    }
   ],
   "source": [
    "y_pred_3 = load_model_and_show_metrics('random_forest_model_not_nans_smote.pkl', \"Random Forest with after SMOTE\")"
   ]
  },
  {
   "cell_type": "code",
   "execution_count": null,
   "metadata": {},
   "outputs": [],
   "source": []
  }
 ],
 "metadata": {
  "kernelspec": {
   "display_name": "Python 3",
   "language": "python",
   "name": "python3"
  },
  "language_info": {
   "codemirror_mode": {
    "name": "ipython",
    "version": 3
   },
   "file_extension": ".py",
   "mimetype": "text/x-python",
   "name": "python",
   "nbconvert_exporter": "python",
   "pygments_lexer": "ipython3",
   "version": "3.11.8"
  }
 },
 "nbformat": 4,
 "nbformat_minor": 4
}
